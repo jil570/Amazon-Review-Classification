{
  "nbformat": 4,
  "nbformat_minor": 0,
  "metadata": {
    "celltoolbar": "Create Assignment",
    "colab": {
      "name": "CIS545 Project",
      "provenance": [],
      "collapsed_sections": [],
      "machine_shape": "hm"
    },
    "kernelspec": {
      "name": "python3",
      "display_name": "Python 3"
    },
    "language_info": {
      "codemirror_mode": {
        "name": "ipython",
        "version": 3
      },
      "file_extension": ".py",
      "mimetype": "text/x-python",
      "name": "python",
      "nbconvert_exporter": "python",
      "pygments_lexer": "ipython3",
      "version": "3.7.3"
    }
  },
  "cells": [
    {
      "cell_type": "markdown",
      "metadata": {
        "colab_type": "text",
        "id": "dkq9oiyfPQEr",
        "nbgrader": {
          "grade": false,
          "grade_id": "title",
          "locked": true,
          "schema_version": 3,
          "solution": false
        }
      },
      "source": [
        "# CIS 545 Project: Amazon Review Analysis and Classification\n",
        "\n",
        "***Design by: Jialin Lou***\n",
        "\n",
        "***Date: 12/11/2019***\n",
        "\n",
        "This notebook includes code for CIS 545 final project. It contains code that predict the star ratings ranging from 1-5 based on the review text content of Amamzon products.\n",
        "\n",
        "It is a continuation of HW4, where we stopped at a test accuracy of 79.855% with random forest classifer using TF-IDF transformed features after applying PCA. \n",
        "\n",
        "**To explore more and improve accuracy, models below are chosen and tested:**\n",
        "\n",
        "\n",
        "> *1.   Support vector machine that uses one-vs-rest strategy for multi-label classifcation on tf-idf transformed data.*\n",
        "\n",
        "> *2.   Logisitic regression with selection of regularization strength on tf-idf transformed data.*\n",
        "\n",
        "> *3.   Multi-layer perceptrons with max_iter of 500 on tf-idf transformed data.*\n",
        "\n",
        "> *4.   Doc2Vec embeddings on recovered text from review_dict along with logisitic regression.*\n",
        "\n",
        "> *5.   Simple deep learning using Keras.*\n",
        "\n"
      ]
    },
    {
      "cell_type": "markdown",
      "metadata": {
        "id": "e3iql4UvwV9a",
        "colab_type": "text"
      },
      "source": [
        "# Install and imports"
      ]
    },
    {
      "cell_type": "code",
      "metadata": {
        "colab_type": "code",
        "id": "nB-65mi_PQEu",
        "colab": {}
      },
      "source": [
        "# install stuff\n",
        "%%capture\n",
        "!pip install -U gensim\n",
        "!pip install urllib2"
      ],
      "execution_count": 0,
      "outputs": []
    },
    {
      "cell_type": "code",
      "metadata": {
        "colab_type": "code",
        "id": "XCZ2LpmRcSIX",
        "outputId": "fdbadf86-739b-43ca-c4f9-845a305247c3",
        "colab": {
          "base_uri": "https://localhost:8080/",
          "height": 34
        }
      },
      "source": [
        "# check gensim version\n",
        "import gensim\n",
        "gensim.__version__"
      ],
      "execution_count": 2,
      "outputs": [
        {
          "output_type": "execute_result",
          "data": {
            "text/plain": [
              "'3.8.1'"
            ]
          },
          "metadata": {
            "tags": []
          },
          "execution_count": 2
        }
      ]
    },
    {
      "cell_type": "code",
      "metadata": {
        "colab_type": "code",
        "id": "Ngg1pmoZPQE4",
        "colab": {
          "base_uri": "https://localhost:8080/",
          "height": 97
        },
        "outputId": "af38b443-0d0d-483d-8444-f06601bdf279"
      },
      "source": [
        "# import models and necessary libraries\n",
        "import numpy as np\n",
        "import pandas as pd\n",
        "import matplotlib.pyplot as plt\n",
        "import matplotlib.cm as cm\n",
        "\n",
        "from gensim import corpora\n",
        "from gensim.models import LsiModel, KeyedVectors, Doc2Vec\n",
        "from gensim.models.tfidfmodel import TfidfModel\n",
        "from gensim.models.nmf import Nmf\n",
        "from gensim.test.utils import get_tmpfile\n",
        "from gensim.models.doc2vec import TaggedDocument\n",
        "\n",
        "import sklearn.model_selection as ms\n",
        "from sklearn.ensemble import RandomForestClassifier\n",
        "from sklearn.metrics import accuracy_score\n",
        "from sklearn.metrics.pairwise import cosine_similarity\n",
        "from sklearn.preprocessing import LabelBinarizer, LabelEncoder\n",
        "from sklearn.metrics import confusion_matrix\n",
        "from sklearn.svm import SVC\n",
        "from sklearn.multiclass import OneVsRestClassifier\n",
        "from sklearn.neural_network import MLPClassifier\n",
        "from sklearn.linear_model import LogisticRegression\n",
        "\n",
        "from datetime import *\n",
        "from operator import itemgetter\n",
        "\n",
        "import tensorflow as tf\n",
        "from tensorflow import keras\n",
        "from keras.models import Sequential\n",
        "from keras.layers import Dense, Activation, Dropout\n",
        "from keras.preprocessing import text, sequence"
      ],
      "execution_count": 3,
      "outputs": [
        {
          "output_type": "display_data",
          "data": {
            "text/html": [
              "<p style=\"color: red;\">\n",
              "The default version of TensorFlow in Colab will soon switch to TensorFlow 2.x.<br>\n",
              "We recommend you <a href=\"https://www.tensorflow.org/guide/migrate\" target=\"_blank\">upgrade</a> now \n",
              "or ensure your notebook will continue to use TensorFlow 1.x via the <code>%tensorflow_version 1.x</code> magic:\n",
              "<a href=\"https://colab.research.google.com/notebooks/tensorflow_version.ipynb\" target=\"_blank\">more info</a>.</p>\n"
            ],
            "text/plain": [
              "<IPython.core.display.HTML object>"
            ]
          },
          "metadata": {
            "tags": []
          }
        },
        {
          "output_type": "stream",
          "text": [
            "Using TensorFlow backend.\n"
          ],
          "name": "stderr"
        }
      ]
    },
    {
      "cell_type": "code",
      "metadata": {
        "id": "79R84xo4FESL",
        "colab_type": "code",
        "colab": {}
      },
      "source": [
        "%%capture\n",
        "!wget https://cis.upenn.edu/~cis545/data/reviews.dict\n",
        "!wget https://cis.upenn.edu/~cis545/data/train_reviews.mm\n",
        "!wget https://cis.upenn.edu/~cis545/data/train_times.npy"
      ],
      "execution_count": 0,
      "outputs": []
    },
    {
      "cell_type": "markdown",
      "metadata": {
        "id": "4w10gQXhAV2G",
        "colab_type": "text"
      },
      "source": [
        "Load data into *reviews_dict, reviews_bow, reviews_times,* and *y*\n",
        "\n",
        "\n",
        "\n"
      ]
    },
    {
      "cell_type": "code",
      "metadata": {
        "colab_type": "code",
        "id": "vBLPPKcePQE9",
        "colab": {}
      },
      "source": [
        "reviews_dict = corpora.Dictionary.load(\"reviews.dict\")\n",
        "reviews_bow = corpora.MmCorpus('train_reviews.mm')\n",
        "reviews_times  = np.load('train_times.npy')\n",
        "reviews_times.shape = (len(reviews_bow),1)\n",
        "y = np.vstack((np.repeat(1, 4000), np.repeat(2, 4000), np.repeat(3, 4000), np.repeat(4, 4000), np.repeat(5, 4000)))\n",
        "y = np.repeat(y, 5)"
      ],
      "execution_count": 0,
      "outputs": []
    },
    {
      "cell_type": "markdown",
      "metadata": {
        "id": "9HScDfUGwQ8O",
        "colab_type": "text"
      },
      "source": [
        "# Helper functions"
      ]
    },
    {
      "cell_type": "markdown",
      "metadata": {
        "id": "wg7TkTNrAvYZ",
        "colab_type": "text"
      },
      "source": [
        "Helper functions for look up documents in corpus and translate math matrix corpus into readable text content"
      ]
    },
    {
      "cell_type": "code",
      "metadata": {
        "colab_type": "code",
        "id": "-s5GeN5SKq2o",
        "nbgrader": {
          "grade": false,
          "grade_id": "answer-0-2",
          "locked": false,
          "schema_version": 3,
          "solution": true,
          "task": false
        },
        "colab": {}
      },
      "source": [
        "def lookup_docs(corpus, indices):\n",
        "  \"\"\"\n",
        "  This function returns a list of documents \n",
        "  which locate at the positions specified in the indices.\n",
        "  \"\"\"\n",
        "  index_doc = 0\n",
        "  docs = []\n",
        "  for doc in corpus:\n",
        "    if index_doc in indices:\n",
        "      docs.append(doc)\n",
        "    index_doc = index_doc+1\n",
        "  return docs"
      ],
      "execution_count": 0,
      "outputs": []
    },
    {
      "cell_type": "code",
      "metadata": {
        "colab_type": "code",
        "id": "H-XXZOTtaiAM",
        "nbgrader": {
          "grade": false,
          "grade_id": "answer-0-3",
          "locked": false,
          "schema_version": 3,
          "solution": true,
          "task": false
        },
        "colab": {}
      },
      "source": [
        "def translate_review(review, reviews_dict):\n",
        "  \"\"\"\n",
        "  This function returns a list of words \n",
        "  that appear in the document.\n",
        "  \"\"\"\n",
        "  words = []\n",
        "  for index,freq in review:\n",
        "    for i in range(0,int(freq)):\n",
        "      words.append(reviews_dict[index])\n",
        "  return words"
      ],
      "execution_count": 0,
      "outputs": []
    },
    {
      "cell_type": "markdown",
      "metadata": {
        "id": "44a4ek37Bw1u",
        "colab_type": "text"
      },
      "source": [
        "# Step 1: Data exploration\n",
        "Task: convert time into organized and readable timestamps.\n",
        "Draw two graphs:\n",
        "\n",
        "1.   the timestamp of each sample\n",
        "2.   the star rating of each sample\n",
        "\n",
        "and explore if there is any relationship between *timestamps* and *star ratings*.\n"
      ]
    },
    {
      "cell_type": "code",
      "metadata": {
        "colab_type": "code",
        "id": "2AvvxOpjPQG9",
        "nbgrader": {
          "grade": false,
          "grade_id": "answer-0-4-1",
          "locked": false,
          "schema_version": 3,
          "solution": true
        },
        "colab": {}
      },
      "source": [
        "def convert_times(reviews_times):\n",
        "  \"\"\"\n",
        "  This function takes in a review time\n",
        "  and converted to a datetime object.\n",
        "  Returns a panda series of datetime object.\n",
        "  \"\"\"\n",
        "  time = []\n",
        "  for review_time in reviews_times:\n",
        "    time.append(datetime.fromtimestamp(review_time))\n",
        "  df = pd.Series(time)\n",
        "  return df"
      ],
      "execution_count": 0,
      "outputs": []
    },
    {
      "cell_type": "code",
      "metadata": {
        "id": "ZJuU3--pKap5",
        "colab_type": "code",
        "colab": {}
      },
      "source": [
        "converted_times = convert_times(reviews_times)"
      ],
      "execution_count": 0,
      "outputs": []
    },
    {
      "cell_type": "code",
      "metadata": {
        "id": "Ua8QWKIwvhOG",
        "colab_type": "code",
        "outputId": "84b795d5-ca98-46fb-dd4f-91b9eac6df20",
        "colab": {
          "base_uri": "https://localhost:8080/",
          "height": 403
        }
      },
      "source": [
        "plt.plot(converted_times, 'r', label='review time')\n",
        "plt.legend(bbox_to_anchor=(1.05, 1), loc='upper left', borderaxespad=0.)\n",
        "plt.title('review time vs. sample')\n",
        "plt.show()"
      ],
      "execution_count": 10,
      "outputs": [
        {
          "output_type": "stream",
          "text": [
            "/usr/local/lib/python3.6/dist-packages/pandas/plotting/_matplotlib/converter.py:103: FutureWarning: Using an implicitly registered datetime converter for a matplotlib plotting method. The converter was registered by pandas on import. Future versions of pandas will require you to explicitly register matplotlib converters.\n",
            "\n",
            "To register the converters:\n",
            "\t>>> from pandas.plotting import register_matplotlib_converters\n",
            "\t>>> register_matplotlib_converters()\n",
            "  warnings.warn(msg, FutureWarning)\n"
          ],
          "name": "stderr"
        },
        {
          "output_type": "display_data",
          "data": {
            "image/png": "[encoded data removed]",
            "text/plain": [
              "<Figure size 432x288 with 1 Axes>"
            ]
          },
          "metadata": {
            "tags": []
          }
        }
      ]
    },
    {
      "cell_type": "code",
      "metadata": {
        "id": "1Al7HRNC1Q3k",
        "colab_type": "code",
        "outputId": "6eee2d73-372a-4914-be3c-f3342434da54",
        "colab": {
          "base_uri": "https://localhost:8080/",
          "height": 281
        }
      },
      "source": [
        "plt.plot(y, 'b', label = 'rating star')\n",
        "plt.legend(bbox_to_anchor=(1.05, 1), loc='upper left', borderaxespad=0.)\n",
        "plt.title('rating star vs. sample')\n",
        "plt.show()"
      ],
      "execution_count": 11,
      "outputs": [
        {
          "output_type": "display_data",
          "data": {
            "image/png": "[encoded data removed]",
            "text/plain": [
              "<Figure size 432x288 with 1 Axes>"
            ]
          },
          "metadata": {
            "tags": []
          }
        }
      ]
    },
    {
      "cell_type": "markdown",
      "metadata": {
        "id": "8jNYjgekC6eh",
        "colab_type": "text"
      },
      "source": [
        "## Conclusion for step 1:\n",
        "We can see from the two graphs that the ratings are evenly distributed over the samples in number sequence. However, the timestamps is not in time series order. Therefore, if we would like to use the reviews_times, we need to combine our data with other dataset. For this project, I chose not to use the reviews_times and focus on the text content of the reviews."
      ]
    },
    {
      "cell_type": "markdown",
      "metadata": {
        "id": "w9o_OQsbEDYo",
        "colab_type": "text"
      },
      "source": [
        "# Step 2: Different models on TF-IDF transformed features\n",
        "In this step, we will test accuracy for different models on tf-idf transformed features. The models are:\n",
        "\n",
        "1.   Random forest classifier\n",
        "2.   Multi-class SVC based on one-vs-rest strategy\n",
        "3.   Multi-layer perceptrons\n",
        "4.   Logisitic regression with different regularization constant\n",
        "\n"
      ]
    },
    {
      "cell_type": "markdown",
      "metadata": {
        "id": "tn-qWQj1G_Zb",
        "colab_type": "text"
      },
      "source": [
        "## Step 2.1: Perform tf-idf transformation and PCA for convenience of trainings"
      ]
    },
    {
      "cell_type": "markdown",
      "metadata": {
        "id": "DRXEsmyHFANX",
        "colab_type": "text"
      },
      "source": [
        "Helper function for tf-idf transformation"
      ]
    },
    {
      "cell_type": "code",
      "metadata": {
        "colab_type": "code",
        "id": "dhlmCiiTzgph",
        "nbgrader": {
          "grade": false,
          "grade_id": "answer-1-2",
          "locked": false,
          "schema_version": 3,
          "solution": true,
          "task": false
        },
        "colab": {}
      },
      "source": [
        "def make_tfidf(reviews_bow):\n",
        "  \"\"\"\n",
        "  This function trains a Tfidf model on the reviews bag of words.\n",
        "  Returns tf-idf transformed features using the trained model.\n",
        "  \"\"\"\n",
        "  model = TfidfModel(reviews_bow,normalize=True)\n",
        "  return model[reviews_bow]"
      ],
      "execution_count": 0,
      "outputs": []
    },
    {
      "cell_type": "markdown",
      "metadata": {
        "id": "tm-0pVWLFIRn",
        "colab_type": "text"
      },
      "source": [
        "Helper function turns a sparse matrix to a dense matrix"
      ]
    },
    {
      "cell_type": "code",
      "metadata": {
        "colab_type": "code",
        "id": "iuzFAAekPQId",
        "nbgrader": {
          "grade": false,
          "grade_id": "answer-2-1",
          "locked": false,
          "schema_version": 3,
          "solution": true
        },
        "colab": {}
      },
      "source": [
        "def densify(sparse, columns):\n",
        "  \"\"\"\n",
        "  This function turns a sparse representation into a dense matrix.\n",
        "  Returns a dense matrix that is of the same with the sparse representation.\n",
        "  \"\"\"\n",
        "  result = np.zeros([len(sparse),columns])\n",
        "  row_index = 0\n",
        "  for row in sparse:\n",
        "    for index,freq in row:\n",
        "      result[row_index][index] = freq\n",
        "    row_index += 1\n",
        "  return result"
      ],
      "execution_count": 0,
      "outputs": []
    },
    {
      "cell_type": "markdown",
      "metadata": {
        "id": "ShzGwYYHGJPA",
        "colab_type": "text"
      },
      "source": [
        "TF-IDF transformation on reviews bag-of-word."
      ]
    },
    {
      "cell_type": "code",
      "metadata": {
        "colab_type": "code",
        "id": "vFNBR3JTZDYs",
        "nbgrader": {
          "grade": true,
          "grade_id": "visible-test-1-2",
          "locked": true,
          "points": 1,
          "schema_version": 3,
          "solution": false,
          "task": false
        },
        "colab": {}
      },
      "source": [
        "reviews_tfidf = make_tfidf(reviews_bow)"
      ],
      "execution_count": 0,
      "outputs": []
    },
    {
      "cell_type": "markdown",
      "metadata": {
        "id": "74ozzboQGRfa",
        "colab_type": "text"
      },
      "source": [
        "Since in HW4, we already calcualted accuracy over num_topics ranging from 10 to 40 and found that when num_topics is 33, our random forest classifier would be most accurate. Therefore, we will still use 33 as our num_topics cutoff. We will then transform the sparse representation into dense matrix for model trainings."
      ]
    },
    {
      "cell_type": "code",
      "metadata": {
        "id": "zC3g67j1Wr_t",
        "colab_type": "code",
        "colab": {}
      },
      "source": [
        "np.random.seed(1911)  # We will fix seed to 1911\n",
        "model = LsiModel(reviews_tfidf,id2word=reviews_dict,num_topics=33)\n",
        "dense_matrix = densify(model[reviews_tfidf],33)"
      ],
      "execution_count": 0,
      "outputs": []
    },
    {
      "cell_type": "markdown",
      "metadata": {
        "id": "v6_XvyQUG7GQ",
        "colab_type": "text"
      },
      "source": [
        "## Step 2.1: Evaluate random forest classifier with n_estimator=70"
      ]
    },
    {
      "cell_type": "code",
      "metadata": {
        "id": "fRyh-S2zSmF1",
        "colab_type": "code",
        "colab": {}
      },
      "source": [
        "def evaluate_rfc(X_orig, y):\n",
        "  \"\"\"\n",
        "  This function trains a random forest classifier and evaluate its performance.\n",
        "  Returns the test accuracy.\n",
        "  \"\"\"\n",
        "  X_train, X_test, y_train, y_test = ms.train_test_split(X_orig, y, test_size=0.2, random_state = 1911)\n",
        "  rfor = RandomForestClassifier(n_estimators=70, random_state=1911)\n",
        "  rfor.fit(X_train,y_train)\n",
        "  y_test_hat = rfor.predict(X_test)\n",
        "  return accuracy_score(y_test_hat,y_test)"
      ],
      "execution_count": 0,
      "outputs": []
    },
    {
      "cell_type": "code",
      "metadata": {
        "colab_type": "code",
        "id": "VDAI7SAWbD1K",
        "colab": {
          "base_uri": "https://localhost:8080/",
          "height": 51
        },
        "outputId": "7dad2c75-66f2-4c43-c241-64e98ef2eaf1"
      },
      "source": [
        "%%time\n",
        "result_rfc = evaluate_rfc(dense_matrix, y)"
      ],
      "execution_count": 38,
      "outputs": [
        {
          "output_type": "stream",
          "text": [
            "CPU times: user 43.5 s, sys: 31.6 ms, total: 43.5 s\n",
            "Wall time: 43.6 s\n"
          ],
          "name": "stdout"
        }
      ]
    },
    {
      "cell_type": "code",
      "metadata": {
        "colab_type": "code",
        "id": "7Gmo6qmvlY-f",
        "nbgrader": {
          "grade": true,
          "grade_id": "visible-test-3-2",
          "locked": true,
          "points": 1,
          "schema_version": 3,
          "solution": false
        },
        "outputId": "60ac7e3d-11b4-4aef-8859-7801ca6f79f2",
        "colab": {
          "base_uri": "https://localhost:8080/",
          "height": 34
        }
      },
      "source": [
        "print(\"The test accuracy of Random Forest Classifier is {:.3%}\".format(result_rfc))"
      ],
      "execution_count": 39,
      "outputs": [
        {
          "output_type": "stream",
          "text": [
            "The test accuracy of Random Forest Classifier is 79.645%\n"
          ],
          "name": "stdout"
        }
      ]
    },
    {
      "cell_type": "markdown",
      "metadata": {
        "id": "9hXIQ6y3JHX1",
        "colab_type": "text"
      },
      "source": [
        "## Step 2.2: Evaluate multi-label SVC based on one-vs-rest strategy"
      ]
    },
    {
      "cell_type": "code",
      "metadata": {
        "id": "x1sudcz_bAHy",
        "colab_type": "code",
        "colab": {}
      },
      "source": [
        "def evaluate_SVC(X_orig, y):\n",
        "  \"\"\"\n",
        "  This function trains a multi-label SVC and evaluate its performance.\n",
        "  Returns the test accuracy.\n",
        "  \"\"\"\n",
        "  X_train, X_test, y_train, y_test = ms.train_test_split(X_orig, y, test_size=0.2, random_state = 1911)\n",
        "  clf = OneVsRestClassifier(SVC(gamma='scale')).fit(X_train, y_train)\n",
        "  y_test_hat = clf.predict(X_test)\n",
        "  \n",
        "  return accuracy_score(y_test_hat,y_test)"
      ],
      "execution_count": 0,
      "outputs": []
    },
    {
      "cell_type": "code",
      "metadata": {
        "id": "V4RcA3v_XSDX",
        "colab_type": "code",
        "outputId": "52ac18a4-a133-4ffb-daec-eeccf05cb5da",
        "colab": {
          "base_uri": "https://localhost:8080/",
          "height": 51
        }
      },
      "source": [
        "%%time\n",
        "result_SVC = evaluate_SVC(dense_matrix, y)"
      ],
      "execution_count": 34,
      "outputs": [
        {
          "output_type": "stream",
          "text": [
            "CPU times: user 13min 57s, sys: 1.66 s, total: 13min 59s\n",
            "Wall time: 13min 59s\n"
          ],
          "name": "stdout"
        }
      ]
    },
    {
      "cell_type": "code",
      "metadata": {
        "id": "MWZqyGpkaXYh",
        "colab_type": "code",
        "outputId": "fa1832cc-073a-48bc-b72f-50186c08ef8f",
        "colab": {
          "base_uri": "https://localhost:8080/",
          "height": 34
        }
      },
      "source": [
        "print(\"The test accuracy of Support Vector Classifer is {:.3%}\".format(result_SVC))"
      ],
      "execution_count": 35,
      "outputs": [
        {
          "output_type": "stream",
          "text": [
            "The test accuracy of Support Vector Classifer is 81.755%\n"
          ],
          "name": "stdout"
        }
      ]
    },
    {
      "cell_type": "markdown",
      "metadata": {
        "id": "USBRxXdnJsbT",
        "colab_type": "text"
      },
      "source": [
        "## Step 2.3: Evaluate Multi-Layer Perceptron Classifer \n",
        "Using stochastic gradient descent with an adaptive learning rate and max_iter=500 to let the MLP converge."
      ]
    },
    {
      "cell_type": "code",
      "metadata": {
        "id": "vY57r6fDmJTf",
        "colab_type": "code",
        "colab": {}
      },
      "source": [
        "def evaluate_MLP(X_orig, y):\n",
        "  \"\"\"\n",
        "  This function trains a MLP and evaluate its performance.\n",
        "  Returns the test accuracy.\n",
        "  \"\"\"\n",
        "  X_train, X_test, y_train, y_test = ms.train_test_split(X_orig, y, test_size=0.2, random_state = 1911)\n",
        "  clf = MLPClassifier(max_iter = 500,solver=\"adam\").fit(X_train, y_train)\n",
        "  y_test_hat = clf.predict(X_test)\n",
        "  \n",
        "  return accuracy_score(y_test_hat,y_test)"
      ],
      "execution_count": 0,
      "outputs": []
    },
    {
      "cell_type": "code",
      "metadata": {
        "id": "DKcMqVXemhTP",
        "colab_type": "code",
        "colab": {
          "base_uri": "https://localhost:8080/",
          "height": 51
        },
        "outputId": "af2e6a92-f0e2-403b-a875-92d21749a78a"
      },
      "source": [
        "%%time\n",
        "result_MLP = evaluate_MLP(dense_matrix, y)"
      ],
      "execution_count": 44,
      "outputs": [
        {
          "output_type": "stream",
          "text": [
            "CPU times: user 13min 20s, sys: 14min 51s, total: 28min 11s\n",
            "Wall time: 7min 4s\n"
          ],
          "name": "stdout"
        }
      ]
    },
    {
      "cell_type": "code",
      "metadata": {
        "id": "gNKWapuhnzO3",
        "colab_type": "code",
        "outputId": "f1f5ca98-6d3b-4a0e-a92b-ab22e144c518",
        "colab": {
          "base_uri": "https://localhost:8080/",
          "height": 34
        }
      },
      "source": [
        "print(\"The test accuracy of Multi-Layer Perceptron Classifer is {:.3%}\".format(result_MLP))"
      ],
      "execution_count": 45,
      "outputs": [
        {
          "output_type": "stream",
          "text": [
            "The test accuracy of Multi-Layer Perceptron Classifer is 82.070%\n"
          ],
          "name": "stdout"
        }
      ]
    },
    {
      "cell_type": "markdown",
      "metadata": {
        "id": "dB2j7n4GKXWj",
        "colab_type": "text"
      },
      "source": [
        "## Step 2.4: Evaluate Logistic Regression Classifer\n",
        "Apply different regularization constant for Logistic regression to select the most accurate model. Different regularization constant = {0.1,1,10,100,1000,1e4,1e5}"
      ]
    },
    {
      "cell_type": "code",
      "metadata": {
        "id": "c6-oiU3R24a1",
        "colab_type": "code",
        "colab": {}
      },
      "source": [
        "X_train, X_test, y_train, y_test = ms.train_test_split(dense_matrix, y, test_size=0.2, random_state = 1911)\n",
        "\n",
        "def evaluate_LR(X_train, y_train, X_test, y_test):\n",
        "  \"\"\"\n",
        "  This function trains 7 logistic regression model with different regularization constant\n",
        "  and evaluate its performance.\n",
        "  Returns the list of test accuracies.\n",
        "  \"\"\"\n",
        "  acc = []\n",
        "  C = [0.1,1,10,100,1000,1e4,1e5]\n",
        "  for c in C:\n",
        "    clf = LogisticRegression(C=c,solver='lbfgs',multi_class='multinomial',max_iter=500).fit(X_train, y_train)\n",
        "    y_test_hat = clf.predict(X_test)\n",
        "    result_lr = accuracy_score(y_test_hat,y_test)\n",
        "    acc.append(result_lr)\n",
        "    print(\"The test accuracy of Logistic Regresion Classifier with C={} is {:.3%}\".format(c,result_lr))\n",
        "\n",
        "  return acc"
      ],
      "execution_count": 0,
      "outputs": []
    },
    {
      "cell_type": "code",
      "metadata": {
        "id": "ZKiZZwUX31Jr",
        "colab_type": "code",
        "colab": {
          "base_uri": "https://localhost:8080/",
          "height": 170
        },
        "outputId": "42708a73-1341-427a-d6be-c590e01b615d"
      },
      "source": [
        "%%time\n",
        "acc = evaluate_LR(X_train,y_train,X_test,y_test)"
      ],
      "execution_count": 47,
      "outputs": [
        {
          "output_type": "stream",
          "text": [
            "The test accuracy of Logistic Regresion Classifier with C=0.1 is 77.095%\n",
            "The test accuracy of Logistic Regresion Classifier with C=1 is 78.325%\n",
            "The test accuracy of Logistic Regresion Classifier with C=10 is 78.940%\n",
            "The test accuracy of Logistic Regresion Classifier with C=100 is 78.920%\n",
            "The test accuracy of Logistic Regresion Classifier with C=1000 is 78.930%\n",
            "The test accuracy of Logistic Regresion Classifier with C=10000.0 is 78.935%\n",
            "The test accuracy of Logistic Regresion Classifier with C=100000.0 is 78.920%\n",
            "CPU times: user 3min 21s, sys: 5min 4s, total: 8min 25s\n",
            "Wall time: 2min 6s\n"
          ],
          "name": "stdout"
        }
      ]
    },
    {
      "cell_type": "code",
      "metadata": {
        "id": "ZtuwHBzI4S1B",
        "colab_type": "code",
        "outputId": "6fa98e6e-730f-4225-a019-2676f3def8c2",
        "colab": {
          "base_uri": "https://localhost:8080/",
          "height": 295
        }
      },
      "source": [
        "plt.plot(acc)\n",
        "plt.title('model accuracy with different regularization constant')\n",
        "plt.ylabel('accuracy')\n",
        "plt.xlabel('regularization constant C = [0.1,1,10,100,1000,1e4,1e5]')\n",
        "plt.show()"
      ],
      "execution_count": 55,
      "outputs": [
        {
          "output_type": "display_data",
          "data": {
            "image/png": "[encoded data removed]",
            "text/plain": [
              "<Figure size 432x288 with 1 Axes>"
            ]
          },
          "metadata": {
            "tags": []
          }
        }
      ]
    },
    {
      "cell_type": "markdown",
      "metadata": {
        "id": "BunEyGbZL4Cj",
        "colab_type": "text"
      },
      "source": [
        "## Conclusion\n",
        "We can organize the accuracies and time spent on trainng of the above 4 models.\n",
        "\n",
        "***RBF***:\n",
        "> time: 43.5 s\n",
        "\n",
        "> test accuracy: 79.645%\n",
        "\n",
        "***SVC***:\n",
        "> time: 13min 59s\n",
        "\n",
        "> test accuracy: 81.755%\n",
        "\n",
        "We can see that though SVC gives us an outstanding test accuracy, however, the underlying of one-vs-rest SVC will train the number of labels of SVC for each label, which means, for this case we will have 25 SVC trained which takes quite amount of time.\n",
        "\n",
        "***MLP***:\n",
        "> time: 28min 11s\n",
        "\n",
        "> test accuracy: 82.070%\n",
        "\n",
        "MLP classifer gives us a test accuracy of 82.070% with approximately 28 mins of running time. This is a pretty good accuracy however one thing we need to think if we really need this 1 percent of improvement for our rating prediction since the time of training a MLP model is twice as training a one-vs-rest SVC, while the test accuracy has not improved dramatically.\n",
        "\n",
        "***Logistic Regression***:\n",
        "> time: 8min 25s for 7 logistic regression model\n",
        "\n",
        "> test accuracy: 78.940% (highest accuracy with C=10)\n",
        "\n",
        "For logistic regression, we test logistic regression models with different regularization constant values:\n",
        "\n",
        "C = [ 0.1, 1, 10, 100, 1000, 1e4, 1e5 ]\n",
        "\n",
        "We can see that from the graph when C=10, the test accuracy reaches a peak. Therefore, the best we can get for logistic regression is 78.94% for test accuracy.\n",
        "\n",
        "\n",
        "\n"
      ]
    },
    {
      "cell_type": "markdown",
      "metadata": {
        "id": "4zvP8mALLihg",
        "colab_type": "text"
      },
      "source": [
        "# Step 3: Use Doc2Vec and apply Logistic regression model\n",
        "Doc2Vec approach is an extension of Word2Vec approach. For Doc2Vec, instead of converting the words into a list of vectors of tokens, it analyzes one document at a time and then encode the whole document. Since reviews are all in a paragraph, Word2Vec may not capturing the embeddings of the whole paragraph, Doc2Vec may be more appropriate for doing text classification for reviews.\n",
        "\n",
        "The documentation and usage examples of this api can be found [here](https://radimrehurek.com/gensim/models/doc2vec.html)."
      ]
    },
    {
      "cell_type": "code",
      "metadata": {
        "id": "MLT4VUIyTE2X",
        "colab_type": "code",
        "colab": {}
      },
      "source": [
        "# Recover the content of docs using reviews_dict \n",
        "# Store the result in sentence_corpus for Doc2Vec embedding usage.\n",
        "\n",
        "doc_corpus = []\n",
        "for doc in reviews_bow:\n",
        "  doc_corpus.append(translate_review(doc,reviews_dict))"
      ],
      "execution_count": 0,
      "outputs": []
    },
    {
      "cell_type": "code",
      "metadata": {
        "id": "RXJ7_rP5Tc5Y",
        "colab_type": "code",
        "colab": {}
      },
      "source": [
        "def label_sentences(corpus, label_type):\n",
        "  \"\"\"\n",
        "  Doc2Vec model requires the documents in the corpus to be tagged.\n",
        "  This function tags every document in the corpus with the specified label type.\n",
        "  Return a list of tagged documents.\n",
        "  \"\"\"\n",
        "  labeled = []\n",
        "  for index, sentence in enumerate(corpus):\n",
        "    label = label_type + '_' + str(index)\n",
        "    labeled.append(TaggedDocument(sentence, [label]))\n",
        "  return labeled"
      ],
      "execution_count": 0,
      "outputs": []
    },
    {
      "cell_type": "markdown",
      "metadata": {
        "id": "YqbP-a2-bSMj",
        "colab_type": "text"
      },
      "source": [
        "Split the train and test dataset before labelling each document in order to get embedding vectors for train and test dataset."
      ]
    },
    {
      "cell_type": "code",
      "metadata": {
        "id": "GLiVc-Lxa2hl",
        "colab_type": "code",
        "colab": {}
      },
      "source": [
        "X_train, X_test, y_train, y_test = ms.train_test_split(doc_corpus, y, random_state=1911, test_size=0.2)\n",
        "# Label the documents differently based dataset type\n",
        "X_train = label_sentences(X_train, 'Train')\n",
        "X_test = label_sentences(X_test, 'Test')\n",
        "full_data = X_train + X_test"
      ],
      "execution_count": 0,
      "outputs": []
    },
    {
      "cell_type": "markdown",
      "metadata": {
        "id": "TJf3cYeTbv0Y",
        "colab_type": "text"
      },
      "source": [
        "Initialize a Doc2Vec model first with PV-DBOW training algorithm since we would like to do a distributed bag-of-word training. We will use a vector size of 300 for embedding vectors and 5 noise words drawn from the samples. The learning rate we set is 0.07."
      ]
    },
    {
      "cell_type": "code",
      "metadata": {
        "id": "_b_ucBXe1bM0",
        "colab_type": "code",
        "colab": {}
      },
      "source": [
        "model_doc = Doc2Vec(dm=0, vector_size=300, negative=5, alpha=0.07)\n",
        "fname = get_tmpfile(\"doc2vec_model\")\n",
        "model_doc.save(fname)"
      ],
      "execution_count": 0,
      "outputs": []
    },
    {
      "cell_type": "code",
      "metadata": {
        "id": "CPRDkiUx1ccI",
        "colab_type": "code",
        "colab": {}
      },
      "source": [
        "model_doc = Doc2Vec.load(fname)"
      ],
      "execution_count": 0,
      "outputs": []
    },
    {
      "cell_type": "code",
      "metadata": {
        "id": "Jt8wlDTYTuPi",
        "colab_type": "code",
        "colab": {
          "base_uri": "https://localhost:8080/",
          "height": 51
        },
        "outputId": "ea7b8edb-9265-41d8-9244-f11b3e4d6399"
      },
      "source": [
        "%%time\n",
        "from sklearn import utils\n",
        "\n",
        "# Build a vocabulary from the sequence of documents\n",
        "model_doc.build_vocab([x for x in full_data])\n",
        "\n",
        "# Iteratively run the training process for 30 epoch and shuffle the data for every epoch\n",
        "for epoch in range(30):\n",
        "  # Possible improvement 1\n",
        "  # model_doc.alpha -= 0.002\n",
        "  # model_doc.min_alpha = model_doc.alpha\n",
        "  model_doc.train(utils.shuffle([x for x in full_data]), total_examples=len(full_data), epochs=1)"
      ],
      "execution_count": 82,
      "outputs": [
        {
          "output_type": "stream",
          "text": [
            "CPU times: user 10min 22s, sys: 1min 12s, total: 11min 35s\n",
            "Wall time: 5min 48s\n"
          ],
          "name": "stdout"
        }
      ]
    },
    {
      "cell_type": "code",
      "metadata": {
        "id": "YFgReSemT23s",
        "colab_type": "code",
        "colab": {}
      },
      "source": [
        "def get_vectors(model, corpus_size, vectors_size, vectors_type):\n",
        "  \"\"\"\n",
        "  This function gets the doc vector for specific docs.\n",
        "  Return a list of doc vectors.\n",
        "  \"\"\"\n",
        "  vectors = np.zeros((corpus_size, vectors_size))\n",
        "  for i in range(0, corpus_size):\n",
        "    # Using the tags we created to retrieve the embedding vectors for documents\n",
        "    prefix = vectors_type + '_' + str(i)\n",
        "    vectors[i] = model.docvecs[prefix]\n",
        "  return vectors"
      ],
      "execution_count": 0,
      "outputs": []
    },
    {
      "cell_type": "code",
      "metadata": {
        "id": "rESA3JTAd-DY",
        "colab_type": "code",
        "colab": {}
      },
      "source": [
        "# Get train and test vectors to perform a logistic regression\n",
        "train_vectors = get_vectors(model_doc, len(X_train), 300, 'Train')\n",
        "test_vectors = get_vectors(model_doc, len(X_test), 300, 'Test')"
      ],
      "execution_count": 0,
      "outputs": []
    },
    {
      "cell_type": "code",
      "metadata": {
        "id": "GN1820uYUGvz",
        "colab_type": "code",
        "outputId": "85ea58ac-d5f7-43a0-dc3c-9fbb2826cbf9",
        "colab": {
          "base_uri": "https://localhost:8080/",
          "height": 414
        }
      },
      "source": [
        "acc = evaluate_LR(train_vectors,y_train,test_vectors,y_test)\n",
        "plt.plot(acc)\n",
        "plt.title('model accuracy with different regularization constant')\n",
        "plt.ylabel('accuracy')\n",
        "plt.xlabel('regularization constant C = [0.1,1,10,100,1000,1e4,1e5]')\n",
        "plt.show()"
      ],
      "execution_count": 85,
      "outputs": [
        {
          "output_type": "stream",
          "text": [
            "The test accuracy of Logistic Regresion Classifier with C=0.1 is 81.660%\n",
            "The test accuracy of Logistic Regresion Classifier with C=1 is 81.565%\n",
            "The test accuracy of Logistic Regresion Classifier with C=10 is 81.580%\n",
            "The test accuracy of Logistic Regresion Classifier with C=100 is 81.580%\n",
            "The test accuracy of Logistic Regresion Classifier with C=1000 is 81.585%\n",
            "The test accuracy of Logistic Regresion Classifier with C=10000.0 is 81.585%\n",
            "The test accuracy of Logistic Regresion Classifier with C=100000.0 is 81.585%\n"
          ],
          "name": "stdout"
        },
        {
          "output_type": "display_data",
          "data": {
            "image/png": "[encoded data removed]",
            "text/plain": [
              "<Figure size 432x288 with 1 Axes>"
            ]
          },
          "metadata": {
            "tags": []
          }
        }
      ]
    },
    {
      "cell_type": "markdown",
      "metadata": {
        "id": "6cxuQUSpL7zM",
        "colab_type": "text"
      },
      "source": [
        "## Conclusion\n",
        "Using Doc2Vec, the time we spent on training the model is 11min 56s. The best accuracy we can get using logistic regression model is 81.29%. Some potential improvements are:\n",
        "\n",
        "1.   Change the learning rate at each training epoch\n",
        "2.   Try other models such as MLP or SVC for classification\n",
        "\n",
        "After making improvement 1, we make learning rate decreased by 0.002 for every epoch of training, the logistic regression reached a test accuracy of 81.66%. However, this does not improve much. \n",
        "\n",
        "As for improvement 2, the time we need to spent on training Doc2Vec model already takes up to 12 mins, if we still are going to use SVC and MLP, the algorithm won't achieve time efficiency. Therefore, I decided not to try improvement 2.\n"
      ]
    },
    {
      "cell_type": "markdown",
      "metadata": {
        "id": "xVn3lMNMLujf",
        "colab_type": "text"
      },
      "source": [
        "# Step 4: Use Keras Bag of Words\n",
        "Keras is a python deep learning library that we can use. \n",
        "\n",
        "We first use tokenizer to create a bag of words representation for representation. We would like to use all of the words therefore we set the max_words to the length of the longest doc.\n",
        "\n",
        "We set the number of classes to 5 since we would like to predict 5 different labels. We will use label encoder and keras.utils to categorical function to convert a list of vectors to binary class matrix.\n",
        "\n",
        "Then we will build a simple deep learning model with 3 layers to train the vectors and predict the label for each review. At the last layer, since we have a multi-label prediction task, we are going to use softmax as our activation function and output a 5 dimension vectors for classification.\n",
        "\n",
        "Code was partly adapted from [google workshop](https://github.com/tensorflow/workshops/blob/master/extras/keras-bag-of-words/keras-bow-model.ipynb)"
      ]
    },
    {
      "cell_type": "code",
      "metadata": {
        "id": "ZMF8cZrSVC5Q",
        "colab_type": "code",
        "colab": {}
      },
      "source": [
        "from keras import utils\n",
        "\n",
        "# Max words is defined by the longest doc in the doc corpus\n",
        "max_words = max([len(sentence) for sentence in doc_corpus])\n",
        "X_train, X_test, y_train, y_test = ms.train_test_split(doc_corpus, y, random_state=1911, test_size=0.2)\n",
        "\n",
        "tokenize = text.Tokenizer(num_words=max_words)\n",
        "tokenize.fit_on_texts(X_train)\n",
        "\n",
        "# Transform text to dense matrix\n",
        "X_train = tokenize.texts_to_matrix(X_train)\n",
        "X_test = tokenize.texts_to_matrix(X_test)\n",
        "\n",
        "# Create labels and convert into binary class matrix\n",
        "encoder = LabelEncoder()\n",
        "encoder.fit(y_train)\n",
        "y_train = encoder.transform(y_train)\n",
        "y_test = encoder.transform(y_test)\n",
        "\n",
        "num_classes = 5\n",
        "y_train = utils.to_categorical(y_train, num_classes)\n",
        "y_test = utils.to_categorical(y_test, num_classes)\n",
        "\n",
        "# Design appropriate batch size and epoch\n",
        "batch_size = 100\n",
        "epochs = 10\n",
        "\n",
        "\n",
        "# Build the model\n",
        "model = Sequential()\n",
        "model.add(Dense(300, input_shape=(max_words,),activation='relu'))\n",
        "model.add(Dropout(0.5))\n",
        "model.add(Dense(num_classes,activation='softmax'))\n",
        "\n",
        "model.compile(loss='categorical_crossentropy',optimizer='adam',metrics=['accuracy'])"
      ],
      "execution_count": 0,
      "outputs": []
    },
    {
      "cell_type": "markdown",
      "metadata": {
        "id": "dAqDSWjNrX5v",
        "colab_type": "text"
      },
      "source": [
        "The sequential model layers can be viewed right here."
      ]
    },
    {
      "cell_type": "code",
      "metadata": {
        "id": "jJMQyJ_Ld5sW",
        "colab_type": "code",
        "outputId": "7476e4f6-3d4a-451d-a51b-4fa022983fd8",
        "colab": {
          "base_uri": "https://localhost:8080/",
          "height": 255
        }
      },
      "source": [
        "model.summary()"
      ],
      "execution_count": 91,
      "outputs": [
        {
          "output_type": "stream",
          "text": [
            "Model: \"sequential_2\"\n",
            "_________________________________________________________________\n",
            "Layer (type)                 Output Shape              Param #   \n",
            "=================================================================\n",
            "dense_3 (Dense)              (None, 300)               767100    \n",
            "_________________________________________________________________\n",
            "dropout_2 (Dropout)          (None, 300)               0         \n",
            "_________________________________________________________________\n",
            "dense_4 (Dense)              (None, 5)                 1505      \n",
            "=================================================================\n",
            "Total params: 768,605\n",
            "Trainable params: 768,605\n",
            "Non-trainable params: 0\n",
            "_________________________________________________________________\n"
          ],
          "name": "stdout"
        }
      ]
    },
    {
      "cell_type": "code",
      "metadata": {
        "id": "FXAbEDEHp5Pp",
        "colab_type": "code",
        "colab": {
          "base_uri": "https://localhost:8080/",
          "height": 717
        },
        "outputId": "64575345-e3b0-4957-e2d8-fecdb734d449"
      },
      "source": [
        "history = model.fit(X_train, y_train, batch_size=batch_size, epochs=epochs, verbose=2,validation_split=0.5)"
      ],
      "execution_count": 95,
      "outputs": [
        {
          "output_type": "stream",
          "text": [
            "WARNING:tensorflow:From /usr/local/lib/python3.6/dist-packages/tensorflow_core/python/ops/math_grad.py:1424: where (from tensorflow.python.ops.array_ops) is deprecated and will be removed in a future version.\n",
            "Instructions for updating:\n",
            "Use tf.where in 2.0, which has the same broadcast rule as np.where\n",
            "WARNING:tensorflow:From /usr/local/lib/python3.6/dist-packages/keras/backend/tensorflow_backend.py:1033: The name tf.assign_add is deprecated. Please use tf.compat.v1.assign_add instead.\n",
            "\n",
            "WARNING:tensorflow:From /usr/local/lib/python3.6/dist-packages/keras/backend/tensorflow_backend.py:1020: The name tf.assign is deprecated. Please use tf.compat.v1.assign instead.\n",
            "\n",
            "WARNING:tensorflow:From /usr/local/lib/python3.6/dist-packages/keras/backend/tensorflow_backend.py:3005: The name tf.Session is deprecated. Please use tf.compat.v1.Session instead.\n",
            "\n",
            "Train on 40000 samples, validate on 40000 samples\n",
            "Epoch 1/10\n",
            "WARNING:tensorflow:From /usr/local/lib/python3.6/dist-packages/keras/backend/tensorflow_backend.py:190: The name tf.get_default_session is deprecated. Please use tf.compat.v1.get_default_session instead.\n",
            "\n",
            "WARNING:tensorflow:From /usr/local/lib/python3.6/dist-packages/keras/backend/tensorflow_backend.py:197: The name tf.ConfigProto is deprecated. Please use tf.compat.v1.ConfigProto instead.\n",
            "\n",
            "WARNING:tensorflow:From /usr/local/lib/python3.6/dist-packages/keras/backend/tensorflow_backend.py:207: The name tf.global_variables is deprecated. Please use tf.compat.v1.global_variables instead.\n",
            "\n",
            "WARNING:tensorflow:From /usr/local/lib/python3.6/dist-packages/keras/backend/tensorflow_backend.py:216: The name tf.is_variable_initialized is deprecated. Please use tf.compat.v1.is_variable_initialized instead.\n",
            "\n",
            "WARNING:tensorflow:From /usr/local/lib/python3.6/dist-packages/keras/backend/tensorflow_backend.py:223: The name tf.variables_initializer is deprecated. Please use tf.compat.v1.variables_initializer instead.\n",
            "\n",
            " - 6s - loss: 0.6711 - acc: 0.7822 - val_loss: 0.4703 - val_acc: 0.8443\n",
            "Epoch 2/10\n",
            " - 6s - loss: 0.4072 - acc: 0.8620 - val_loss: 0.4546 - val_acc: 0.8454\n",
            "Epoch 3/10\n",
            " - 6s - loss: 0.3404 - acc: 0.8819 - val_loss: 0.4515 - val_acc: 0.8466\n",
            "Epoch 4/10\n",
            " - 6s - loss: 0.2882 - acc: 0.9010 - val_loss: 0.4601 - val_acc: 0.8455\n",
            "Epoch 5/10\n",
            " - 6s - loss: 0.2501 - acc: 0.9130 - val_loss: 0.4722 - val_acc: 0.8437\n",
            "Epoch 6/10\n",
            " - 6s - loss: 0.2115 - acc: 0.9285 - val_loss: 0.4942 - val_acc: 0.8432\n",
            "Epoch 7/10\n",
            " - 6s - loss: 0.1799 - acc: 0.9414 - val_loss: 0.5079 - val_acc: 0.8420\n",
            "Epoch 8/10\n",
            " - 6s - loss: 0.1494 - acc: 0.9525 - val_loss: 0.5382 - val_acc: 0.8413\n",
            "Epoch 9/10\n",
            " - 6s - loss: 0.1282 - acc: 0.9600 - val_loss: 0.5549 - val_acc: 0.8398\n",
            "Epoch 10/10\n",
            " - 6s - loss: 0.1091 - acc: 0.9662 - val_loss: 0.5808 - val_acc: 0.8402\n"
          ],
          "name": "stdout"
        }
      ]
    },
    {
      "cell_type": "code",
      "metadata": {
        "id": "K_06P6k4lWI_",
        "colab_type": "code",
        "outputId": "d9c32ee0-3351-42f2-8333-9c59dc42dc86",
        "colab": {
          "base_uri": "https://localhost:8080/",
          "height": 573
        }
      },
      "source": [
        "plt.plot(history.history['acc'])\n",
        "plt.title('model accuracy')\n",
        "plt.ylabel('accuracy')\n",
        "plt.xlabel('epoch')\n",
        "plt.show()\n",
        "\n",
        "plt.plot(history.history['loss'])\n",
        "plt.title('model loss')\n",
        "plt.ylabel('loss')\n",
        "plt.xlabel('epoch')\n",
        "plt.show()"
      ],
      "execution_count": 96,
      "outputs": [
        {
          "output_type": "display_data",
          "data": {
            "image/png": "[encoded data removed]",
            "text/plain": [
              "<Figure size 432x288 with 1 Axes>"
            ]
          },
          "metadata": {
            "tags": []
          }
        },
        {
          "output_type": "display_data",
          "data": {
            "image/png": "[encoded data removed]",
            "text/plain": [
              "<Figure size 432x288 with 1 Axes>"
            ]
          },
          "metadata": {
            "tags": []
          }
        }
      ]
    },
    {
      "cell_type": "code",
      "metadata": {
        "id": "n1t3Vw52ee8C",
        "colab_type": "code",
        "outputId": "0e87d89e-4025-4fa1-af6f-903eda6c76ec",
        "colab": {
          "base_uri": "https://localhost:8080/",
          "height": 34
        }
      },
      "source": [
        "score = model.evaluate(X_test, y_test, batch_size=batch_size, verbose=2)\n",
        "print(\"The test accuracy of simple deep learning network is {:.3%}\".format(score[1]))"
      ],
      "execution_count": 99,
      "outputs": [
        {
          "output_type": "stream",
          "text": [
            "The test accuracy of simple deep learning network is 83.910%\n"
          ],
          "name": "stdout"
        }
      ]
    },
    {
      "cell_type": "markdown",
      "metadata": {
        "id": "aKwVl0YQL_ny",
        "colab_type": "text"
      },
      "source": [
        "## Conclusion\n",
        "For Keras Deep Learning model, we can see that we trained for 10 epochs, and each epoch takes about 10 seconds. Total only takes about 1 minute. However, the accuracy is outstanding, the test accuracy reaches 83.910%. We can see that for text classification, a simple deep learning model really works well with short training time. But one thing that we need to notice is that we took some advantages of our dataset. The dataset is big enough for us to train a simple deep learning network. If the dataset is small or too simple, then deep learning network may not work and we may see the accuracy dramastically falling down in between some training epochs."
      ]
    },
    {
      "cell_type": "markdown",
      "metadata": {
        "id": "PllSQuKhMCbT",
        "colab_type": "text"
      },
      "source": [
        "# Final result and conclusion\n",
        "From the above analysis, we can see that using tf-idf transformation with PCA is effective. The model we tried so far works best along with this technique is either SVC or MLP classifier. However, these two classifier are both not that efficiency. Besides doing tf-idf transformation, we can do a doc embeddings using Doc2Vec model in gensim. Though we may take sometime in training the Doc2Vec model, the accuracy is almost as good as tf-idf approach. Doc2Vec model works better than tf-idf when we want some relationship between documents rather than between just words. The last approach we tried is using simple deep learning network for text classification. The deep learning performs the best among the approaches we talked about in this notebook. Therefore, if we have enough data to train a deep learning network, then with a few layers in the deep learning network, we can get a pretty desent test accuracy with a short training time."
      ]
    }
  ]
}